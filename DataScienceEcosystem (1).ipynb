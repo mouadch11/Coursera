{
 "cells": [
  {
   "cell_type": "markdown",
   "id": "ba914476",
   "metadata": {},
   "source": [
    "# Data Science Tools and Ecosystem"
   ]
  },
  {
   "cell_type": "markdown",
   "id": "97d8bd48",
   "metadata": {},
   "source": [
    "In this notebook, Data Science Tools and Ecosystem are summarized."
   ]
  },
  {
   "cell_type": "markdown",
   "id": "6869c3b2",
   "metadata": {},
   "source": [
    "Some of the popular languages that Data Scientists use are:\n",
    "1. **Python**\n",
    "2. **R**\n",
    "3. **SQL**\n",
    "4. **Julia**\n",
    "5. **Scala**"
   ]
  },
  {
   "cell_type": "markdown",
   "id": "27f2769c",
   "metadata": {},
   "source": [
    "Some of the commonly used libraries used by Data Scientists include:\n",
    "1. **NumPy**\n",
    "2. **Pandas**\n",
    "3. **Matplotlib**\n",
    "4. **Scikit-learn**"
   ]
  },
  {
   "cell_type": "markdown",
   "id": "75690053",
   "metadata": {},
   "source": [
    "| Data Science Tools   |\n",
    "|----------------------|\n",
    "| Jupyter Notebook     |\n",
    "| RStudio              |\n",
    "| VS Code + extensions |"
   ]
  },
  {
   "cell_type": "markdown",
   "id": "da736e30",
   "metadata": {},
   "source": [
    "### Below are a few examples of evaluating arithmetic expressions in Python\n"
   ]
  },
  {
   "cell_type": "markdown",
   "id": "a2ba2127",
   "metadata": {},
   "source": [
    "<!-- This is a simple arithmetic expression to multiply then add integers.-->\n",
    "result = (3 * 4) + 5\n",
    "result"
   ]
  },
  {
   "cell_type": "code",
   "execution_count": 8,
   "id": "19cfc256",
   "metadata": {},
   "outputs": [
    {
     "data": {
      "text/plain": [
       "3.3333333333333335"
      ]
     },
     "execution_count": 8,
     "metadata": {},
     "output_type": "execute_result"
    }
   ],
   "source": [
    "# This will convert 200 minutes to hours by dividing by 60.\n",
    "hours = 200 / 60\n",
    "hours"
   ]
  },
  {
   "cell_type": "markdown",
   "id": "de91aff3",
   "metadata": {},
   "source": [
    "**Objectives:**\n",
    "- List popular languages for Data Science.\n",
    "- Introduce common libraries used in Data Science.\n",
    "- Demonstrate arithmetic operations in Python."
   ]
  },
  {
   "cell_type": "markdown",
   "id": "93268b0f",
   "metadata": {},
   "source": [
    "## Author\n",
    "\n",
    "Charai Mouad"
   ]
  },
  {
   "cell_type": "code",
   "execution_count": null,
   "id": "7e86d4fb",
   "metadata": {},
   "outputs": [],
   "source": []
  }
 ],
 "metadata": {
  "kernelspec": {
   "display_name": "Python 3 (ipykernel)",
   "language": "python",
   "name": "python3"
  },
  "language_info": {
   "codemirror_mode": {
    "name": "ipython",
    "version": 3
   },
   "file_extension": ".py",
   "mimetype": "text/x-python",
   "name": "python",
   "nbconvert_exporter": "python",
   "pygments_lexer": "ipython3",
   "version": "3.11.5"
  }
 },
 "nbformat": 4,
 "nbformat_minor": 5
}
